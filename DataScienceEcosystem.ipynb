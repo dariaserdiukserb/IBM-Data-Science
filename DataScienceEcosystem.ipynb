{
 "cells": [
  {
   "cell_type": "markdown",
   "id": "e51d7bca-4438-4554-9d91-77a179df7aa4",
   "metadata": {},
   "source": [
    "# Data Science Tools and Ecosystem "
   ]
  },
  {
   "cell_type": "markdown",
   "id": "2280c069-e7db-4ad5-8f90-c615107b15e5",
   "metadata": {},
   "source": [
    "In this notebook, Data Science Tools and Ecosystem are summarized."
   ]
  },
  {
   "cell_type": "markdown",
   "id": "a6786e0e-931b-48d2-8f87-35cafa9e9058",
   "metadata": {},
   "source": [
    "Some of the popular languages that Data Scientists use are:\n",
    "1. Python\n",
    "2. R\n",
    "3. SQL"
   ]
  },
  {
   "cell_type": "markdown",
   "id": "7457212d-67de-48d6-9c46-69b5638eac68",
   "metadata": {},
   "source": [
    "Some of the commonly used libraries used by Data Scientists include:\n",
    "\n",
    "1. **NumPy** - Used for numerical computations and handling large multi-dimensional arrays.\n",
    "2. **Pandas** - Provides powerful data manipulation and analysis tools.\n",
    "3. **Matplotlib** - A library for creating static, animated, and interactive visualizations.\n",
    "4. **Scikit-learn** - Essential for implementing machine learning algorithms.\n",
    "5. **TensorFlow** - Widely used for deep learning and neural networks.\n"
   ]
  },
  {
   "cell_type": "markdown",
   "id": "bf23625d-b9fd-42d6-947a-5b257ac82dab",
   "metadata": {},
   "source": [
    "| Data Science Tools          |\n",
    "|-----------------------------|\n",
    "| Jupyter Notebook            |\n",
    "| RStudio                     |\n",
    "| Apache Zeppelin             |\n"
   ]
  },
  {
   "cell_type": "markdown",
   "id": "6b05c12a-3794-4a14-801b-a67093d21a6d",
   "metadata": {},
   "source": [
    "### Below are a few examples of evaluating arithmetic expressions in Python."
   ]
  },
  {
   "cell_type": "code",
   "execution_count": 1,
   "id": "580ba1d8-b5b0-40da-82f9-2364b04e2a08",
   "metadata": {},
   "outputs": [
    {
     "data": {
      "text/plain": [
       "17"
      ]
     },
     "execution_count": 1,
     "metadata": {},
     "output_type": "execute_result"
    }
   ],
   "source": [
    "#This a simple arithmetic expression to mutiply then add integers\n",
    "(3*4)+5"
   ]
  },
  {
   "cell_type": "code",
   "execution_count": 2,
   "id": "875cb7da-18e0-4cc2-b687-704225af2b96",
   "metadata": {},
   "outputs": [
    {
     "data": {
      "text/plain": [
       "3.3333333333333335"
      ]
     },
     "execution_count": 2,
     "metadata": {},
     "output_type": "execute_result"
    }
   ],
   "source": [
    "# This will convert 200 minutes to hours by dividing by 60\n",
    "200 / 60"
   ]
  },
  {
   "cell_type": "markdown",
   "id": "a0183125-d404-4b8e-b722-dfd3a9038b95",
   "metadata": {},
   "source": [
    "**Objectives:**\n",
    "\n",
    "- List popular languages for Data Science\n",
    "- Demonstrate usage of common Data Science libraries\n",
    "- Show examples of Data Science tools for development environments\n",
    "- Evaluate arithmetic expressions in Python\n",
    "- Convert units using arithmetic operations in Python"
   ]
  },
  {
   "cell_type": "markdown",
   "id": "d6641689-8977-4640-98ea-9fa3d497abff",
   "metadata": {},
   "source": [
    "## Author\n",
    "\n",
    "Serdiuk Daria"
   ]
  },
  {
   "cell_type": "code",
   "execution_count": null,
   "id": "7d20cc05-8d0a-4341-acef-381d536e6b89",
   "metadata": {},
   "outputs": [],
   "source": []
  }
 ],
 "metadata": {
  "kernelspec": {
   "display_name": "Python 3 (ipykernel)",
   "language": "python",
   "name": "python3"
  },
  "language_info": {
   "codemirror_mode": {
    "name": "ipython",
    "version": 3
   },
   "file_extension": ".py",
   "mimetype": "text/x-python",
   "name": "python",
   "nbconvert_exporter": "python",
   "pygments_lexer": "ipython3",
   "version": "3.11.9"
  }
 },
 "nbformat": 4,
 "nbformat_minor": 5
}
